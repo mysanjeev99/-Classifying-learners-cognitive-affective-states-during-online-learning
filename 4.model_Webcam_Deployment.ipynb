{
 "cells": [
  {
   "cell_type": "markdown",
   "metadata": {},
   "source": [
    "# MODEL WEBCAM DEPLOYMENT"
   ]
  },
  {
   "cell_type": "code",
   "execution_count": 2,
   "metadata": {},
   "outputs": [
    {
     "name": "stdout",
     "output_type": "stream",
     "text": [
      "Loaded model from disk\n"
     ]
    }
   ],
   "source": [
    "import time\n",
    "import tensorflow as tf\n",
    "import numpy as np\n",
    "from PIL import Image\n",
    "from keras import models\n",
    "from keras.models import model_from_json\n",
    "from facenet_pytorch import MTCNN\n",
    "mtcnn = MTCNN(margin=20, keep_all=True, post_process=False, device='cuda:0')\n",
    "import cv2 # Import opencv\n",
    "\n",
    "video = cv2.VideoCapture(0)\n",
    "prev_frame_time = 0\n",
    "new_frame_time = 0\n",
    "\n",
    "model_name = \"model_main2\"\n",
    "FPS_CAP=10\n",
    "\n",
    "# load json and create model\n",
    "json_file = open(model_name+'/model.json', 'r') \n",
    "loaded_model_json = json_file.read()\n",
    "json_file.close()\n",
    "model = model_from_json(loaded_model_json)\n",
    "# load weights into new model\n",
    "model.load_weights(model_name+\"/model.h5\")\n",
    "print(\"Loaded model from disk\")\n",
    "\n",
    "class_names = {0 : 'BORED', 1: 'CONFUSED', 2 : 'DELIGHT', 3 : 'FRUSTRATED', 4 : 'NEUTRAL'}\n",
    "C_FPS = 0\n",
    "with mp_holistic.Holistic(min_detection_confidence=0.5, min_tracking_confidence=0.5,model_complexity =0) as holistic:\n",
    "        \n",
    "        while True:\n",
    "                _, frame = video.read()\n",
    "                new_frame_time = time.time()\n",
    "                fps = 1/(new_frame_time-prev_frame_time)\n",
    "                prev_frame_time = new_frame_time\n",
    "                fps = int(fps)\n",
    "                fps = str(fps)\n",
    "                C_FPS = C_FPS +1\n",
    "\n",
    "                #Convert the captured frame into RGB\n",
    "                im = Image.fromarray(frame, 'RGB')\n",
    "                \n",
    "                #Resizing into 160x160 because we trained the model with this image size.\n",
    "                #im = im.resize((160,160))\n",
    "                 \n",
    "                # Recolor Feed\n",
    "                image1 = cv2.cvtColor(frame, cv2.COLOR_BGR2RGB)\n",
    "                image1.flags.writeable = False        \n",
    "                # Recolor image back to BGR for rendering\n",
    "                image1.flags.writeable = True   \n",
    "                image = cv2.cvtColor(image1, cv2.COLOR_RGB2BGR)\n",
    "                if C_FPS == FPS_CAP:\n",
    "                        faces = mtcnn(im)\n",
    "\n",
    "                        try:\n",
    "                                for im in faces:\n",
    "                                        # DL MODEL\n",
    "                                        im = im.permute(1,2,0)\n",
    "                                        img_array = np.expand_dims(im, axis=0)\n",
    "                                        prediction = model.predict(img_array,verbose = 0)\n",
    "                                        maxindex = int(np.argmax(prediction))\n",
    "                                        prediction = class_names[maxindex]\n",
    "\n",
    "                                        # Make Detections\n",
    "                                        results = holistic.process(image1)\n",
    "                                        # print(results.face_landmarks)\n",
    "\n",
    "                        except:\n",
    "                                prediction = \"NONE\"\n",
    "                        C_FPS = 0\n",
    "\n",
    "                cv2.putText(image, str(prediction), (5, 30), cv2.FONT_HERSHEY_SIMPLEX, 1, (255, 0, 0), 2, cv2.LINE_AA)\n",
    "                cv2.putText(image, (\"FPS:\"+fps), (5, 80), cv2.FONT_HERSHEY_SIMPLEX, 1, (255, 0, 0), 2, cv2.LINE_AA)\n",
    "                cv2.imshow(\"DETECTION\", image)\n",
    "                key=cv2.waitKey(1)\n",
    "                if key == ord('q'):\n",
    "                        break\n",
    "video.release()\n",
    "cv2.destroyAllWindows()"
   ]
  },
  {
   "cell_type": "code",
   "execution_count": null,
   "metadata": {},
   "outputs": [],
   "source": []
  }
 ],
 "metadata": {
  "kernelspec": {
   "display_name": "Python 3 (ipykernel)",
   "language": "python",
   "name": "python3"
  },
  "language_info": {
   "codemirror_mode": {
    "name": "ipython",
    "version": 3
   },
   "file_extension": ".py",
   "mimetype": "text/x-python",
   "name": "python",
   "nbconvert_exporter": "python",
   "pygments_lexer": "ipython3",
   "version": "3.9.13"
  },
  "vscode": {
   "interpreter": {
    "hash": "11938c6bc6919ae2720b4d5011047913343b08a43b18698fd82dedb0d4417594"
   }
  }
 },
 "nbformat": 4,
 "nbformat_minor": 2
}
